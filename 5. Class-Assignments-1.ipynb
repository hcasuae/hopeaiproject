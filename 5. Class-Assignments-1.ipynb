{
 "cells": [
  {
   "cell_type": "code",
   "execution_count": 16,
   "id": "a994857b-70c6-4805-8dcc-b17689935f96",
   "metadata": {},
   "outputs": [],
   "source": [
    "from classlibrary import oddEven"
   ]
  },
  {
   "cell_type": "code",
   "execution_count": 17,
   "id": "5b45d132-a480-4ebc-99a8-72d07e66d8a7",
   "metadata": {},
   "outputs": [],
   "source": [
    "from classlibrary import EligibilityForMarriage"
   ]
  },
  {
   "cell_type": "code",
   "execution_count": 19,
   "id": "8fc465ca-13a6-4c51-92c2-ec829acc7435",
   "metadata": {},
   "outputs": [],
   "source": [
    "from classlibrary import FindPercent"
   ]
  },
  {
   "cell_type": "code",
   "execution_count": 20,
   "id": "4663391c-e8f4-4040-a8d8-b74fc4bfd63e",
   "metadata": {},
   "outputs": [],
   "source": [
    "from classlibrary import triangle"
   ]
  },
  {
   "cell_type": "code",
   "execution_count": 31,
   "id": "20e5f20d-baae-4264-8477-efa7d5e2c45a",
   "metadata": {},
   "outputs": [
    {
     "ename": "ImportError",
     "evalue": "cannot import name 'SubfieldsInAI' from 'classlibrary' (E:\\Hope\\AI begins\\classlibrary.py)",
     "output_type": "error",
     "traceback": [
      "\u001b[1;31m---------------------------------------------------------------------------\u001b[0m",
      "\u001b[1;31mImportError\u001b[0m                               Traceback (most recent call last)",
      "Cell \u001b[1;32mIn[31], line 1\u001b[0m\n\u001b[1;32m----> 1\u001b[0m \u001b[38;5;28;01mfrom\u001b[39;00m \u001b[38;5;21;01mclasslibrary\u001b[39;00m \u001b[38;5;28;01mimport\u001b[39;00m SubfieldsInAI\n",
      "\u001b[1;31mImportError\u001b[0m: cannot import name 'SubfieldsInAI' from 'classlibrary' (E:\\Hope\\AI begins\\classlibrary.py)"
     ]
    }
   ],
   "source": [
    "from classlibrary import SubfieldsInAI"
   ]
  },
  {
   "cell_type": "code",
   "execution_count": 32,
   "id": "eb1a3e48-f751-430d-bbb6-9aff2c2f45fa",
   "metadata": {},
   "outputs": [
    {
     "name": "stdin",
     "output_type": "stream",
     "text": [
      "Enter a number: 5242\n"
     ]
    },
    {
     "name": "stdout",
     "output_type": "stream",
     "text": [
      "5242 is Even number\n"
     ]
    }
   ],
   "source": [
    "oddEven=oddEven.oddEven()"
   ]
  },
  {
   "cell_type": "code",
   "execution_count": 33,
   "id": "476df8a9-b572-4eee-8edb-1a8900760223",
   "metadata": {},
   "outputs": [
    {
     "name": "stdin",
     "output_type": "stream",
     "text": [
      "Your age: 20\n",
      "Your gender: Male\n"
     ]
    },
    {
     "name": "stdout",
     "output_type": "stream",
     "text": [
      "Not Eligible\n"
     ]
    }
   ],
   "source": [
    "Eligible=EligibilityForMarriage.Eligible()"
   ]
  },
  {
   "cell_type": "code",
   "execution_count": 38,
   "id": "0b754d2d-37e3-4316-9c1a-c8883610db1e",
   "metadata": {},
   "outputs": [
    {
     "name": "stdin",
     "output_type": "stream",
     "text": [
      "Subject1= 98\n",
      "Subject2= 87\n",
      "Subject3= 95\n",
      "Subject4= 95\n",
      "Subject5= 93\n"
     ]
    },
    {
     "name": "stdout",
     "output_type": "stream",
     "text": [
      "Total: 468\n",
      "Percentage: 93.6\n"
     ]
    }
   ],
   "source": [
    "Percentage=FindPercent.percentage()"
   ]
  },
  {
   "cell_type": "code",
   "execution_count": 40,
   "id": "0f1fd97a-262a-48ad-9c99-74a94f6b84af",
   "metadata": {},
   "outputs": [
    {
     "name": "stdin",
     "output_type": "stream",
     "text": [
      "Height: 32\n",
      "Breadth: 34\n"
     ]
    },
    {
     "name": "stdout",
     "output_type": "stream",
     "text": [
      "Area formula: (Height*Breadth/2)\n",
      "Area of Triangle 544.0\n"
     ]
    },
    {
     "name": "stdin",
     "output_type": "stream",
     "text": [
      "Height1: 2\n",
      "Height2: 4\n",
      "Breadth: 4\n"
     ]
    },
    {
     "name": "stdout",
     "output_type": "stream",
     "text": [
      "Perimeter formula: Height1+Height2+Breadth\n",
      "Perimeter of Triangle: 10\n"
     ]
    }
   ],
   "source": [
    "triangle=triangle.triangle()"
   ]
  },
  {
   "cell_type": "code",
   "execution_count": 41,
   "id": "be6e570d-3a1a-45cf-9647-33dd55163734",
   "metadata": {},
   "outputs": [],
   "source": [
    "lists=[\"Machine Learining\",\"Neural Network\",\"Vision\",\"Robotics\",\"Speech Processing\",\"Natural Language Processing\"]\n",
    "def Subfields():\n",
    "    for subfield in lists:\n",
    "        print(subfield)\n",
    "        output=subfield"
   ]
  },
  {
   "cell_type": "code",
   "execution_count": 42,
   "id": "f6415042-97cc-4187-b469-2c4604017570",
   "metadata": {},
   "outputs": [
    {
     "name": "stdout",
     "output_type": "stream",
     "text": [
      "Machine Learining\n",
      "Neural Network\n",
      "Vision\n",
      "Robotics\n",
      "Speech Processing\n",
      "Natural Language Processing\n"
     ]
    }
   ],
   "source": [
    "Subfields()"
   ]
  },
  {
   "cell_type": "code",
   "execution_count": null,
   "id": "fa558d94-2af7-4b72-b9dd-f9bee3077fcf",
   "metadata": {},
   "outputs": [],
   "source": []
  }
 ],
 "metadata": {
  "kernelspec": {
   "display_name": "Python 3 (ipykernel)",
   "language": "python",
   "name": "python3"
  },
  "language_info": {
   "codemirror_mode": {
    "name": "ipython",
    "version": 3
   },
   "file_extension": ".py",
   "mimetype": "text/x-python",
   "name": "python",
   "nbconvert_exporter": "python",
   "pygments_lexer": "ipython3",
   "version": "3.12.7"
  }
 },
 "nbformat": 4,
 "nbformat_minor": 5
}
