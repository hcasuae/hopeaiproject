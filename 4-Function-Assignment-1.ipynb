{
 "cells": [
  {
   "cell_type": "code",
   "execution_count": 52,
   "id": "cbfc7419-4570-43b1-aaf8-468226831072",
   "metadata": {},
   "outputs": [],
   "source": [
    "lists=[\"Machine Learining\",\"Neural Network\",\"Vision\",\"Robotics\",\"Speech Processing\",\"Natural Language Processing\"]\n",
    "def SubfieldsInAI():\n",
    "    for subfields in lists:\n",
    "        print(subfields)\n",
    "        output=subfields\n",
    "    return output"
   ]
  },
  {
   "cell_type": "code",
   "execution_count": 53,
   "id": "61b63015-10d2-40af-b525-857e4da33e90",
   "metadata": {},
   "outputs": [
    {
     "name": "stdout",
     "output_type": "stream",
     "text": [
      "Sub-fields in AI are:\n",
      "Machine Learining\n",
      "Neural Network\n",
      "Vision\n",
      "Robotics\n",
      "Speech Processing\n",
      "Natural Language Processing\n"
     ]
    }
   ],
   "source": [
    "print(\"Sub-fields in AI are:\")\n",
    "output=SubfieldsInAI ()"
   ]
  },
  {
   "cell_type": "code",
   "execution_count": 18,
   "id": "35e861e8-1a4d-470b-b708-57868ba2efc9",
   "metadata": {},
   "outputs": [],
   "source": [
    "def OddEven():\n",
    "    num=int(input(\"Enter a number:\"))\n",
    "    if(num%2==1):\n",
    "        print(num,\"is Odd number\")\n",
    "        oddEven=(num,\"is Odd number\")\n",
    "    else:\n",
    "        print(num,\"is Even number\")\n",
    "        oddEven=(num,\"is Even number\")\n",
    "    return oddEven"
   ]
  },
  {
   "cell_type": "code",
   "execution_count": 20,
   "id": "d8baf14b-043e-4e23-ab1f-61a52c60125c",
   "metadata": {},
   "outputs": [
    {
     "name": "stdin",
     "output_type": "stream",
     "text": [
      "Enter a number: 52452\n"
     ]
    },
    {
     "name": "stdout",
     "output_type": "stream",
     "text": [
      "52452 is Even number\n"
     ]
    }
   ],
   "source": [
    "oddEven=OddEven()"
   ]
  },
  {
   "cell_type": "code",
   "execution_count": null,
   "id": "6c5cba49-1012-4e7f-9d63-3c5eb5c08740",
   "metadata": {},
   "outputs": [],
   "source": []
  },
  {
   "cell_type": "code",
   "execution_count": 48,
   "id": "7d156e7d-09c5-4232-975b-76d782d6e795",
   "metadata": {},
   "outputs": [],
   "source": [
    "def EligibilityForMarriage():\n",
    "    age=int(input(\"Your age:\"))\n",
    "    gender=input(\"Your gender:\")\n",
    "    if(age<18):\n",
    "        print(\"Not Eligible\")\n",
    "        Eligibility=\"Not Eligible\"\n",
    "    elif(age>21):\n",
    "        print(\"Eligible\")\n",
    "        Eligibility=\"Eligible\"\n",
    "    elif(gender==\"Female\"):\n",
    "        print(\"Eligible\")\n",
    "        Eligibility=\"Eligible\"\n",
    "    elif(gender==\"Male\"):\n",
    "        print(\"Not Eligible\")\n",
    "        Eligibility=\"Not Eligible\"\n",
    "    return Eligibility"
   ]
  },
  {
   "cell_type": "code",
   "execution_count": 55,
   "id": "6c31003a-1731-43fe-9615-d337fb8ad03a",
   "metadata": {},
   "outputs": [
    {
     "name": "stdin",
     "output_type": "stream",
     "text": [
      "Your age: 20\n",
      "Your gender: Male\n"
     ]
    },
    {
     "name": "stdout",
     "output_type": "stream",
     "text": [
      "Not Eligible\n"
     ]
    }
   ],
   "source": [
    "Eligible=EligibilityForMarriage()"
   ]
  },
  {
   "cell_type": "code",
   "execution_count": 62,
   "id": "2bade7da-d418-42cf-bb4a-f18479b43d42",
   "metadata": {},
   "outputs": [],
   "source": [
    "def findPercent():\n",
    "    Sub1=int(input(\"Subject1=\"))\n",
    "    Sub2=int(input(\"Subject2=\"))\n",
    "    Sub3=int(input(\"Subject3=\"))\n",
    "    Sub4=int(input(\"Subject4=\"))\n",
    "    Sub5=int(input(\"Subject5=\"))\n",
    "    Total=(Sub1+Sub2+Sub3+Sub4+Sub5)\n",
    "    Per=(Total/5)\n",
    "    print(\"Total:\",Total)\n",
    "    print(\"Percentage:\",Per)\n",
    "    Percentage=\"Percentage\"\n",
    "    return Percentage"
   ]
  },
  {
   "cell_type": "code",
   "execution_count": 65,
   "id": "7c61c56c-c952-4af0-954c-545179861cce",
   "metadata": {},
   "outputs": [
    {
     "name": "stdin",
     "output_type": "stream",
     "text": [
      "Subject1= 98\n",
      "Subject2= 87\n",
      "Subject3= 95\n",
      "Subject4= 93\n",
      "Subject5= 95\n"
     ]
    },
    {
     "name": "stdout",
     "output_type": "stream",
     "text": [
      "Total: 468\n",
      "Percentage: 93.6\n"
     ]
    }
   ],
   "source": [
    "Percentage=findPercent()"
   ]
  },
  {
   "cell_type": "code",
   "execution_count": 69,
   "id": "6689ef3e-1b65-4c09-961c-5972fa9e4203",
   "metadata": {},
   "outputs": [],
   "source": [
    "def triangle():\n",
    "    Ht=int(input(\"Height:\"))\n",
    "    Bth=int(input(\"Breadth:\"))\n",
    "    print(\"Area formula: (Height*Breadth/2)\")\n",
    "    AOT=((Ht*Bth)/2)\n",
    "    print(\"Area of Triangle\",AOT)\n",
    "    Ht1=int(input(\"Height1:\"))\n",
    "    Ht2=int(input(\"Height2:\"))\n",
    "    Bth=int(input(\"Breadth:\"))\n",
    "    print(\"Perimeter formula: Height1+Height2+Breadth\")\n",
    "    PT=(Ht1+Ht2+Bth)\n",
    "    print(\"Perimeter of Triangle:\",PT)\n",
    "    triangle=\"Perimeter of Triangle:\"\n",
    "    return triangle"
   ]
  },
  {
   "cell_type": "code",
   "execution_count": 70,
   "id": "facb2527-8f8c-47a9-90dc-b506abeb287b",
   "metadata": {},
   "outputs": [
    {
     "name": "stdin",
     "output_type": "stream",
     "text": [
      "Height: 32\n",
      "Breadth: 34\n"
     ]
    },
    {
     "name": "stdout",
     "output_type": "stream",
     "text": [
      "Area formula: (Height*Breadth/2)\n",
      "Area of Triangle 544.0\n"
     ]
    },
    {
     "name": "stdin",
     "output_type": "stream",
     "text": [
      "Height1: 2\n",
      "Height2: 4\n",
      "Breadth: 4\n"
     ]
    },
    {
     "name": "stdout",
     "output_type": "stream",
     "text": [
      "Perimeter formula: Height1+Height2+Breadth\n",
      "Perimeter of Triangle: 10\n"
     ]
    }
   ],
   "source": [
    "triangle=triangle()"
   ]
  },
  {
   "cell_type": "code",
   "execution_count": null,
   "id": "7745c662-3a26-46e8-b956-619e16901e4c",
   "metadata": {},
   "outputs": [],
   "source": []
  }
 ],
 "metadata": {
  "kernelspec": {
   "display_name": "Python 3 (ipykernel)",
   "language": "python",
   "name": "python3"
  },
  "language_info": {
   "codemirror_mode": {
    "name": "ipython",
    "version": 3
   },
   "file_extension": ".py",
   "mimetype": "text/x-python",
   "name": "python",
   "nbconvert_exporter": "python",
   "pygments_lexer": "ipython3",
   "version": "3.12.7"
  }
 },
 "nbformat": 4,
 "nbformat_minor": 5
}
