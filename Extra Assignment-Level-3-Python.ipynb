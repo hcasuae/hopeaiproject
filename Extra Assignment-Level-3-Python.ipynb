{
 "cells": [
  {
   "cell_type": "code",
   "execution_count": 17,
   "id": "e34db771-38ca-459c-b1be-4df45a45e5d0",
   "metadata": {},
   "outputs": [
    {
     "name": "stdin",
     "output_type": "stream",
     "text": [
      "value: 10\n"
     ]
    },
    {
     "name": "stdout",
     "output_type": "stream",
     "text": [
      "Correct\n"
     ]
    }
   ],
   "source": [
    "num=(int(input(\"value:\")))\n",
    "if(num==10):\n",
    "    print(\"Correct\")"
   ]
  },
  {
   "cell_type": "code",
   "execution_count": 19,
   "id": "9fe9ce57-2bf9-4559-8100-8eb96922f148",
   "metadata": {},
   "outputs": [
    {
     "name": "stdin",
     "output_type": "stream",
     "text": [
      "Enter the password: HOPE@123\n"
     ]
    },
    {
     "name": "stdout",
     "output_type": "stream",
     "text": [
      "Your password is Correct\n"
     ]
    }
   ],
   "source": [
    "password=(input(\"Enter the password:\"))\n",
    "if(password==\"HOPE@123\"):\n",
    "    print(\"Your password is Correct\")\n",
    "else:\n",
    "    print(\"Your password is Wrong\")"
   ]
  },
  {
   "cell_type": "code",
   "execution_count": 36,
   "id": "0d303e8e-dbc4-47bc-995d-1f1ea1be46f7",
   "metadata": {},
   "outputs": [
    {
     "name": "stdin",
     "output_type": "stream",
     "text": [
      "age: 20\n"
     ]
    },
    {
     "name": "stdout",
     "output_type": "stream",
     "text": [
      "Adult\n"
     ]
    }
   ],
   "source": [
    "age=int(input(\"age:\"))\n",
    "if age in range(0,13):\n",
    "    print(\"child\")\n",
    "elif age in range(13,60):\n",
    "    print(\"Adult\")\n",
    "else:\n",
    "    print(\"Senior citizen\")"
   ]
  },
  {
   "cell_type": "code",
   "execution_count": 39,
   "id": "1636c17d-84e5-45cd-a444-5f0c8aa09cda",
   "metadata": {},
   "outputs": [
    {
     "name": "stdin",
     "output_type": "stream",
     "text": [
      "Enter any number: 1\n"
     ]
    },
    {
     "name": "stdout",
     "output_type": "stream",
     "text": [
      "No is positive\n"
     ]
    }
   ],
   "source": [
    "num=int(input(\"Enter any number:\"))\n",
    "if(num>0):\n",
    "    print(\"No is positive\")\n",
    "else:\n",
    "    print(\"No is negative\")"
   ]
  },
  {
   "cell_type": "code",
   "execution_count": 50,
   "id": "d1940af4-c6ea-4471-893f-086986e0af65",
   "metadata": {},
   "outputs": [
    {
     "name": "stdin",
     "output_type": "stream",
     "text": [
      "Enter a number to check: 22\n"
     ]
    },
    {
     "name": "stdout",
     "output_type": "stream",
     "text": [
      "number is not divisible by 5\n"
     ]
    }
   ],
   "source": [
    "num=int(input(\"Enter a number to check:\"))\n",
    "div=(num%5)\n",
    "if(div==0):\n",
    "    print(\"number is deivisible by 5\")\n",
    "else:\n",
    "    print(\"number is not divisible by 5\")"
   ]
  },
  {
   "cell_type": "code",
   "execution_count": null,
   "id": "eb31e8de-df1a-4219-b2fa-90e7914fdd00",
   "metadata": {},
   "outputs": [],
   "source": []
  }
 ],
 "metadata": {
  "kernelspec": {
   "display_name": "Python 3 (ipykernel)",
   "language": "python",
   "name": "python3"
  },
  "language_info": {
   "codemirror_mode": {
    "name": "ipython",
    "version": 3
   },
   "file_extension": ".py",
   "mimetype": "text/x-python",
   "name": "python",
   "nbconvert_exporter": "python",
   "pygments_lexer": "ipython3",
   "version": "3.12.7"
  }
 },
 "nbformat": 4,
 "nbformat_minor": 5
}
